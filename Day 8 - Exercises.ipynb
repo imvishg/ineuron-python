{
 "cells": [
  {
   "cell_type": "markdown",
   "metadata": {},
   "source": [
    "# EXCEPTION HANDLING (CONTINUE)"
   ]
  },
  {
   "cell_type": "code",
   "execution_count": 12,
   "metadata": {},
   "outputs": [],
   "source": [
    "def askint():\n",
    "    try:\n",
    "        v=int(input(\"Enter the input: \"))\n",
    "    except Exception as e:\n",
    "        print(e)\n",
    "    finally:\n",
    "        print('This finally block is executed for sure even if its error or no error')\n",
    "        print(v)\n",
    "    #Here we can't do print(v) as v is not assigned any value as it's wrong type casting from string to int and i/p is string"
   ]
  },
  {
   "cell_type": "code",
   "execution_count": 13,
   "metadata": {},
   "outputs": [
    {
     "name": "stdout",
     "output_type": "stream",
     "text": [
      "Enter the input: vishal\n",
      "invalid literal for int() with base 10: 'vishal'\n",
      "This finally block is executed for sure even if its error or no error\n"
     ]
    },
    {
     "ename": "UnboundLocalError",
     "evalue": "local variable 'v' referenced before assignment",
     "output_type": "error",
     "traceback": [
      "\u001b[1;31m---------------------------------------------------------------------------\u001b[0m",
      "\u001b[1;31mUnboundLocalError\u001b[0m                         Traceback (most recent call last)",
      "\u001b[1;32m<ipython-input-13-cc291aa76c10>\u001b[0m in \u001b[0;36m<module>\u001b[1;34m\u001b[0m\n\u001b[1;32m----> 1\u001b[1;33m \u001b[0maskint\u001b[0m\u001b[1;33m(\u001b[0m\u001b[1;33m)\u001b[0m\u001b[1;33m\u001b[0m\u001b[1;33m\u001b[0m\u001b[0m\n\u001b[0m",
      "\u001b[1;32m<ipython-input-12-25f53335557e>\u001b[0m in \u001b[0;36maskint\u001b[1;34m()\u001b[0m\n\u001b[0;32m      6\u001b[0m     \u001b[1;32mfinally\u001b[0m\u001b[1;33m:\u001b[0m\u001b[1;33m\u001b[0m\u001b[1;33m\u001b[0m\u001b[0m\n\u001b[0;32m      7\u001b[0m         \u001b[0mprint\u001b[0m\u001b[1;33m(\u001b[0m\u001b[1;34m'This finally block is executed for sure even if its error or no error'\u001b[0m\u001b[1;33m)\u001b[0m\u001b[1;33m\u001b[0m\u001b[1;33m\u001b[0m\u001b[0m\n\u001b[1;32m----> 8\u001b[1;33m         \u001b[0mprint\u001b[0m\u001b[1;33m(\u001b[0m\u001b[0mv\u001b[0m\u001b[1;33m)\u001b[0m\u001b[1;33m\u001b[0m\u001b[1;33m\u001b[0m\u001b[0m\n\u001b[0m\u001b[0;32m      9\u001b[0m     \u001b[1;31m#Here we can't do print(v) as v is not assigned any value as it's wrong type casting from string to int and i/p is string\u001b[0m\u001b[1;33m\u001b[0m\u001b[1;33m\u001b[0m\u001b[1;33m\u001b[0m\u001b[0m\n",
      "\u001b[1;31mUnboundLocalError\u001b[0m: local variable 'v' referenced before assignment"
     ]
    }
   ],
   "source": [
    "askint()"
   ]
  },
  {
   "cell_type": "code",
   "execution_count": 17,
   "metadata": {},
   "outputs": [],
   "source": [
    "#The above error for print(v) type casting can be handled using try and except block.\n",
    "\n",
    "def askint():\n",
    "    try:\n",
    "        v=int(input(\"Enter the input: \"))\n",
    "    except Exception as e:\n",
    "        print(e)\n",
    "    finally:\n",
    "        print('This finally block is executed for sure even if its error or no error')\n",
    "        try:\n",
    "            print(v)\n",
    "        except Exception as e:\n",
    "            print(e)\n",
    "        else:\n",
    "            print('I have value of v')\n",
    "#It doesn't stop the code execution like in previous part"
   ]
  },
  {
   "cell_type": "code",
   "execution_count": 18,
   "metadata": {},
   "outputs": [
    {
     "name": "stdout",
     "output_type": "stream",
     "text": [
      "Enter the input: vishal\n",
      "invalid literal for int() with base 10: 'vishal'\n",
      "This finally block is executed for sure even if its error or no error\n",
      "local variable 'v' referenced before assignment\n"
     ]
    }
   ],
   "source": [
    "askint()"
   ]
  },
  {
   "cell_type": "code",
   "execution_count": 19,
   "metadata": {},
   "outputs": [
    {
     "name": "stdout",
     "output_type": "stream",
     "text": [
      "Enter the input: 234\n",
      "This finally block is executed for sure even if its error or no error\n",
      "234\n",
      "I have value of v\n"
     ]
    }
   ],
   "source": [
    "askint()"
   ]
  },
  {
   "cell_type": "code",
   "execution_count": 20,
   "metadata": {},
   "outputs": [],
   "source": [
    "#Check the integer type input and proceed further.\n",
    "#Asking for input again and again\n",
    "\n",
    "def askint():\n",
    "    while True:\n",
    "        try:\n",
    "            v=int(input(\"Enter the input: \"))\n",
    "        except Exception as e:\n",
    "            print(e)\n",
    "            continue\n",
    "        finally:\n",
    "            print('This finally block is executed for sure even if its error or no error')\n",
    "#In this case, this while will be executed until condition is True , integer is given as input.\n",
    "#But here eventhough if we give integer as input, it still asks for input to enter integer. So have to turn of kernal & restart."
   ]
  },
  {
   "cell_type": "code",
   "execution_count": null,
   "metadata": {},
   "outputs": [
    {
     "name": "stdout",
     "output_type": "stream",
     "text": [
      "Enter the input: vishal\n",
      "invalid literal for int() with base 10: 'vishal'\n",
      "This finally block is executed for sure even if its error or no error\n",
      "Enter the input: ganesan\n",
      "invalid literal for int() with base 10: 'ganesan'\n",
      "This finally block is executed for sure even if its error or no error\n",
      "Enter the input: 234\n",
      "This finally block is executed for sure even if its error or no error\n"
     ]
    }
   ],
   "source": [
    "askint()"
   ]
  },
  {
   "cell_type": "code",
   "execution_count": 1,
   "metadata": {},
   "outputs": [],
   "source": [
    "#To overcome above scenario: Asking for input again and again\n",
    "#ELSE block is added to break the loop once the try is executed and successful. \n",
    "#Here once integer is given, it will come out of while loop. But in previous case, it was looping and had to restart Kernel.\n",
    "\n",
    "def askint():\n",
    "    while True:\n",
    "        try:\n",
    "            v=int(input(\"Enter the input: \"))\n",
    "        except Exception as e:\n",
    "            print(e)\n",
    "            continue\n",
    "        else:\n",
    "            print('Try block is executed successfully')\n",
    "            break\n",
    "        finally:\n",
    "            print('This finally block is executed for sure even if its error or no error')"
   ]
  },
  {
   "cell_type": "code",
   "execution_count": 2,
   "metadata": {},
   "outputs": [
    {
     "name": "stdout",
     "output_type": "stream",
     "text": [
      "Enter the input: vishal\n",
      "invalid literal for int() with base 10: 'vishal'\n",
      "This finally block is executed for sure even if its error or no error\n",
      "Enter the input: ganesan\n",
      "invalid literal for int() with base 10: 'ganesan'\n",
      "This finally block is executed for sure even if its error or no error\n",
      "Enter the input: 234\n",
      "Try block is executed successfully\n",
      "This finally block is executed for sure even if its error or no error\n"
     ]
    }
   ],
   "source": [
    "askint()"
   ]
  },
  {
   "cell_type": "code",
   "execution_count": 3,
   "metadata": {},
   "outputs": [],
   "source": [
    "#If the value of 'V' needs to be printed, it should be printed outside the loop not inside.\n",
    "#If inside the loop, and if there is any exception, finally will also be executed which throws runtime error. \n",
    "#If coming out of while loop it knows whether it has value or not. \n",
    "#Below are 2 examples:"
   ]
  },
  {
   "cell_type": "code",
   "execution_count": 5,
   "metadata": {},
   "outputs": [],
   "source": [
    "#Printing inside loop:\n",
    "\n",
    "def askint():\n",
    "    while True:\n",
    "        try:\n",
    "            v=int(input(\"Enter the input: \"))\n",
    "        except Exception as e:\n",
    "            print(e)\n",
    "            continue\n",
    "        else:\n",
    "            print('Try block is executed successfully')\n",
    "            break\n",
    "        finally:\n",
    "            print('This finally block is executed for sure even if its error or no error')\n",
    "            print(v)"
   ]
  },
  {
   "cell_type": "code",
   "execution_count": 6,
   "metadata": {},
   "outputs": [
    {
     "name": "stdout",
     "output_type": "stream",
     "text": [
      "Enter the input: vishal\n",
      "invalid literal for int() with base 10: 'vishal'\n",
      "This finally block is executed for sure even if its error or no error\n"
     ]
    },
    {
     "ename": "UnboundLocalError",
     "evalue": "local variable 'v' referenced before assignment",
     "output_type": "error",
     "traceback": [
      "\u001b[1;31m---------------------------------------------------------------------------\u001b[0m",
      "\u001b[1;31mUnboundLocalError\u001b[0m                         Traceback (most recent call last)",
      "\u001b[1;32m<ipython-input-6-cc291aa76c10>\u001b[0m in \u001b[0;36m<module>\u001b[1;34m\u001b[0m\n\u001b[1;32m----> 1\u001b[1;33m \u001b[0maskint\u001b[0m\u001b[1;33m(\u001b[0m\u001b[1;33m)\u001b[0m\u001b[1;33m\u001b[0m\u001b[1;33m\u001b[0m\u001b[0m\n\u001b[0m",
      "\u001b[1;32m<ipython-input-5-cacf01b7b9da>\u001b[0m in \u001b[0;36maskint\u001b[1;34m()\u001b[0m\n\u001b[0;32m     13\u001b[0m         \u001b[1;32mfinally\u001b[0m\u001b[1;33m:\u001b[0m\u001b[1;33m\u001b[0m\u001b[1;33m\u001b[0m\u001b[0m\n\u001b[0;32m     14\u001b[0m             \u001b[0mprint\u001b[0m\u001b[1;33m(\u001b[0m\u001b[1;34m'This finally block is executed for sure even if its error or no error'\u001b[0m\u001b[1;33m)\u001b[0m\u001b[1;33m\u001b[0m\u001b[1;33m\u001b[0m\u001b[0m\n\u001b[1;32m---> 15\u001b[1;33m             \u001b[0mprint\u001b[0m\u001b[1;33m(\u001b[0m\u001b[0mv\u001b[0m\u001b[1;33m)\u001b[0m\u001b[1;33m\u001b[0m\u001b[1;33m\u001b[0m\u001b[0m\n\u001b[0m",
      "\u001b[1;31mUnboundLocalError\u001b[0m: local variable 'v' referenced before assignment"
     ]
    }
   ],
   "source": [
    "askint()"
   ]
  },
  {
   "cell_type": "code",
   "execution_count": 7,
   "metadata": {},
   "outputs": [
    {
     "name": "stdout",
     "output_type": "stream",
     "text": [
      "Enter the input: 234\n",
      "Try block is executed successfully\n",
      "This finally block is executed for sure even if its error or no error\n",
      "234\n"
     ]
    }
   ],
   "source": [
    "askint()"
   ]
  },
  {
   "cell_type": "code",
   "execution_count": 9,
   "metadata": {},
   "outputs": [],
   "source": [
    "#printing outside loop:\n",
    "\n",
    "def askint():\n",
    "    while True:\n",
    "        try:\n",
    "            v=int(input(\"Enter the input: \"))\n",
    "        except Exception as e:\n",
    "            print(e)\n",
    "            continue\n",
    "        else:\n",
    "            print('Try block is executed successfully')\n",
    "            break\n",
    "        finally:\n",
    "            print('This finally block is executed for sure even if its error or no error')\n",
    "    print(v)"
   ]
  },
  {
   "cell_type": "code",
   "execution_count": 10,
   "metadata": {},
   "outputs": [
    {
     "name": "stdout",
     "output_type": "stream",
     "text": [
      "Enter the input: vishal\n",
      "invalid literal for int() with base 10: 'vishal'\n",
      "This finally block is executed for sure even if its error or no error\n",
      "Enter the input: 234\n",
      "Try block is executed successfully\n",
      "This finally block is executed for sure even if its error or no error\n",
      "234\n"
     ]
    }
   ],
   "source": [
    "askint()"
   ]
  },
  {
   "cell_type": "code",
   "execution_count": 11,
   "metadata": {},
   "outputs": [
    {
     "name": "stdout",
     "output_type": "stream",
     "text": [
      "there is error in code\n"
     ]
    }
   ],
   "source": [
    "#Exceptions with errors:\n",
    "\n",
    "try:\n",
    "    f = open('xyz.txt')\n",
    "    f.write('Vishal here')\n",
    "except:\n",
    "    print(\"there is error in code\")"
   ]
  },
  {
   "cell_type": "code",
   "execution_count": 15,
   "metadata": {},
   "outputs": [
    {
     "name": "stdout",
     "output_type": "stream",
     "text": [
      "[Errno 2] No such file or directory: 'vishal.txt'\n"
     ]
    }
   ],
   "source": [
    "#Valid error as file isn't present and handled well in exception\n",
    "try:\n",
    "    f = open('vishal.txt')\n",
    "    f.write('Vishal here')\n",
    "except OSError as e:\n",
    "    print(e)"
   ]
  },
  {
   "cell_type": "code",
   "execution_count": 16,
   "metadata": {},
   "outputs": [
    {
     "name": "stdout",
     "output_type": "stream",
     "text": [
      "[Errno 2] No such file or directory: 'vishal.txt'\n"
     ]
    }
   ],
   "source": [
    "#Valid error as file isn't present and handled well in exception\n",
    "try:\n",
    "    f = open('vishal.txt')\n",
    "    f.write('Vishal here')\n",
    "except IOError as e:\n",
    "    print(e)"
   ]
  },
  {
   "cell_type": "code",
   "execution_count": 19,
   "metadata": {},
   "outputs": [
    {
     "ename": "FileNotFoundError",
     "evalue": "[Errno 2] No such file or directory: 'vishal.txt'",
     "output_type": "error",
     "traceback": [
      "\u001b[1;31m---------------------------------------------------------------------------\u001b[0m",
      "\u001b[1;31mFileNotFoundError\u001b[0m                         Traceback (most recent call last)",
      "\u001b[1;32m<ipython-input-19-f262386754b1>\u001b[0m in \u001b[0;36m<module>\u001b[1;34m\u001b[0m\n\u001b[0;32m      2\u001b[0m \u001b[1;31m#Make sure not handle any exception type if you are not sure.\u001b[0m\u001b[1;33m\u001b[0m\u001b[1;33m\u001b[0m\u001b[1;33m\u001b[0m\u001b[0m\n\u001b[0;32m      3\u001b[0m \u001b[1;32mtry\u001b[0m\u001b[1;33m:\u001b[0m\u001b[1;33m\u001b[0m\u001b[1;33m\u001b[0m\u001b[0m\n\u001b[1;32m----> 4\u001b[1;33m     \u001b[0mf\u001b[0m \u001b[1;33m=\u001b[0m \u001b[0mopen\u001b[0m\u001b[1;33m(\u001b[0m\u001b[1;34m'vishal.txt'\u001b[0m\u001b[1;33m)\u001b[0m\u001b[1;33m\u001b[0m\u001b[1;33m\u001b[0m\u001b[0m\n\u001b[0m\u001b[0;32m      5\u001b[0m     \u001b[0mf\u001b[0m\u001b[1;33m.\u001b[0m\u001b[0mwrite\u001b[0m\u001b[1;33m(\u001b[0m\u001b[1;34m'Vishal here'\u001b[0m\u001b[1;33m)\u001b[0m\u001b[1;33m\u001b[0m\u001b[1;33m\u001b[0m\u001b[0m\n\u001b[0;32m      6\u001b[0m \u001b[1;32mexcept\u001b[0m \u001b[0mValueError\u001b[0m \u001b[1;32mas\u001b[0m \u001b[0me\u001b[0m\u001b[1;33m:\u001b[0m\u001b[1;33m\u001b[0m\u001b[1;33m\u001b[0m\u001b[0m\n",
      "\u001b[1;31mFileNotFoundError\u001b[0m: [Errno 2] No such file or directory: 'vishal.txt'"
     ]
    }
   ],
   "source": [
    "#This isn't a value error as the file is not available. So it thrown runtime error even when exception is not handled properly.\n",
    "#Make sure not handle any exception type if you are not sure.\n",
    "try:\n",
    "    f = open('vishal.txt')\n",
    "    f.write('Vishal here')\n",
    "except ValueError as e:\n",
    "    print(e)"
   ]
  },
  {
   "cell_type": "code",
   "execution_count": 20,
   "metadata": {},
   "outputs": [
    {
     "name": "stdout",
     "output_type": "stream",
     "text": [
      "[Errno 2] No such file or directory: 'vishal.txt'\n"
     ]
    }
   ],
   "source": [
    "#This belong to IOError , OSError exception super class\n",
    "try:\n",
    "    f = open('vishal.txt')\n",
    "    f.write('Vishal here')\n",
    "except FileNotFoundError as e:\n",
    "    print(e)"
   ]
  },
  {
   "cell_type": "code",
   "execution_count": 21,
   "metadata": {},
   "outputs": [
    {
     "ename": "FileNotFoundError",
     "evalue": "[Errno 2] No such file or directory: 'vishal.txt'",
     "output_type": "error",
     "traceback": [
      "\u001b[1;31m---------------------------------------------------------------------------\u001b[0m",
      "\u001b[1;31mFileNotFoundError\u001b[0m                         Traceback (most recent call last)",
      "\u001b[1;32m<ipython-input-21-da82bc2a4064>\u001b[0m in \u001b[0;36m<module>\u001b[1;34m\u001b[0m\n\u001b[0;32m      1\u001b[0m \u001b[1;32mtry\u001b[0m\u001b[1;33m:\u001b[0m\u001b[1;33m\u001b[0m\u001b[1;33m\u001b[0m\u001b[0m\n\u001b[1;32m----> 2\u001b[1;33m     \u001b[0mf\u001b[0m \u001b[1;33m=\u001b[0m \u001b[0mopen\u001b[0m\u001b[1;33m(\u001b[0m\u001b[1;34m'vishal.txt'\u001b[0m\u001b[1;33m)\u001b[0m\u001b[1;33m\u001b[0m\u001b[1;33m\u001b[0m\u001b[0m\n\u001b[0m\u001b[0;32m      3\u001b[0m     \u001b[0mf\u001b[0m\u001b[1;33m.\u001b[0m\u001b[0mwrite\u001b[0m\u001b[1;33m(\u001b[0m\u001b[1;34m'Vishal here'\u001b[0m\u001b[1;33m)\u001b[0m\u001b[1;33m\u001b[0m\u001b[1;33m\u001b[0m\u001b[0m\n\u001b[0;32m      4\u001b[0m \u001b[1;32mexcept\u001b[0m \u001b[0mFileExistsError\u001b[0m \u001b[1;32mas\u001b[0m \u001b[0me\u001b[0m\u001b[1;33m:\u001b[0m\u001b[1;33m\u001b[0m\u001b[1;33m\u001b[0m\u001b[0m\n\u001b[0;32m      5\u001b[0m     \u001b[0mprint\u001b[0m\u001b[1;33m(\u001b[0m\u001b[0me\u001b[0m\u001b[1;33m)\u001b[0m\u001b[1;33m\u001b[0m\u001b[1;33m\u001b[0m\u001b[0m\n",
      "\u001b[1;31mFileNotFoundError\u001b[0m: [Errno 2] No such file or directory: 'vishal.txt'"
     ]
    }
   ],
   "source": [
    "try:\n",
    "    f = open('vishal.txt')\n",
    "    f.write('Vishal here')\n",
    "except FileExistsError as e:\n",
    "    print(e)"
   ]
  },
  {
   "cell_type": "code",
   "execution_count": 30,
   "metadata": {},
   "outputs": [
    {
     "name": "stdout",
     "output_type": "stream",
     "text": [
      "This is IO Error:\n"
     ]
    }
   ],
   "source": [
    "#Handling multiple exception errors in same code:\n",
    "#Above scenario is handled here. If one exception is not handled, another exception block will handle.\n",
    "#If none of exception type works, generic type is validated at last. Throws output based on hierrarchy. \n",
    "#Here IOError is thrown as it's first in hierrarchy. So have super class if nothing is validated. So maintain hierrarchy.\n",
    "\n",
    "try:\n",
    "    f = open('vishal.txt')\n",
    "    f.write('Vishal here')\n",
    "except FileExistsError as e:\n",
    "    print('This is Fileexists error:', e)\n",
    "except ValueError as e:\n",
    "    print('This is value error:', e)\n",
    "except IOError:\n",
    "    print('This is IO Error:')\n",
    "except OSError:\n",
    "    print('This is OS Error:')\n",
    "except Exception as e:\n",
    "    print('This is super class:', e)"
   ]
  },
  {
   "cell_type": "code",
   "execution_count": 31,
   "metadata": {},
   "outputs": [
    {
     "name": "stdout",
     "output_type": "stream",
     "text": [
      "This is OS Error:\n"
     ]
    }
   ],
   "source": [
    "#OS Error is thrown as OS error at first hierrarchy followed by IO Error\n",
    "try:\n",
    "    f = open('vishal.txt')\n",
    "    f.write('Vishal here')\n",
    "except FileExistsError as e:\n",
    "    print('This is Fileexists error:', e)\n",
    "except ValueError as e:\n",
    "    print('This is value error:', e)\n",
    "except OSError:\n",
    "    print('This is OS Error:')\n",
    "except IOError:\n",
    "    print('This is IO Error:')\n",
    "except Exception as e:\n",
    "    print('This is super class:', e)"
   ]
  },
  {
   "cell_type": "code",
   "execution_count": 32,
   "metadata": {},
   "outputs": [
    {
     "name": "stdout",
     "output_type": "stream",
     "text": [
      "This is super class: [Errno 2] No such file or directory: 'vishal.txt'\n"
     ]
    }
   ],
   "source": [
    "#If none of 2 exception works, we can have generic exception superclass called at last.\n",
    "try:\n",
    "    f = open('vishal.txt')\n",
    "    f.write('Vishal here')\n",
    "except FileExistsError as e:\n",
    "    print('This is Fileexists error:', e)\n",
    "except ValueError as e:\n",
    "    print('This is value error:', e)\n",
    "except Exception as e:\n",
    "    print('This is super class:', e)"
   ]
  },
  {
   "cell_type": "code",
   "execution_count": 34,
   "metadata": {},
   "outputs": [
    {
     "ename": "FileNotFoundError",
     "evalue": "[Errno 2] No such file or directory: 'vishal.txt'",
     "output_type": "error",
     "traceback": [
      "\u001b[1;31m---------------------------------------------------------------------------\u001b[0m",
      "\u001b[1;31mFileNotFoundError\u001b[0m                         Traceback (most recent call last)",
      "\u001b[1;32m<ipython-input-34-d3a714c9a0dd>\u001b[0m in \u001b[0;36m<module>\u001b[1;34m\u001b[0m\n\u001b[0;32m      1\u001b[0m \u001b[1;31m#Exceptions within a single block\u001b[0m\u001b[1;33m\u001b[0m\u001b[1;33m\u001b[0m\u001b[1;33m\u001b[0m\u001b[0m\n\u001b[0;32m      2\u001b[0m \u001b[1;32mtry\u001b[0m\u001b[1;33m:\u001b[0m\u001b[1;33m\u001b[0m\u001b[1;33m\u001b[0m\u001b[0m\n\u001b[1;32m----> 3\u001b[1;33m     \u001b[0mf\u001b[0m \u001b[1;33m=\u001b[0m \u001b[0mopen\u001b[0m\u001b[1;33m(\u001b[0m\u001b[1;34m'vishal.txt'\u001b[0m\u001b[1;33m)\u001b[0m\u001b[1;33m\u001b[0m\u001b[1;33m\u001b[0m\u001b[0m\n\u001b[0m\u001b[0;32m      4\u001b[0m     \u001b[0mf\u001b[0m\u001b[1;33m.\u001b[0m\u001b[0mwrite\u001b[0m\u001b[1;33m(\u001b[0m\u001b[1;34m'Vishal here'\u001b[0m\u001b[1;33m)\u001b[0m\u001b[1;33m\u001b[0m\u001b[1;33m\u001b[0m\u001b[0m\n\u001b[0;32m      5\u001b[0m \u001b[1;32mexcept\u001b[0m \u001b[1;33m(\u001b[0m\u001b[0mFileExistsError\u001b[0m\u001b[1;33m,\u001b[0m \u001b[0mValueError\u001b[0m\u001b[1;33m)\u001b[0m\u001b[1;33m:\u001b[0m\u001b[1;33m\u001b[0m\u001b[1;33m\u001b[0m\u001b[0m\n",
      "\u001b[1;31mFileNotFoundError\u001b[0m: [Errno 2] No such file or directory: 'vishal.txt'"
     ]
    }
   ],
   "source": [
    "#Exceptions within a single block\n",
    "try:\n",
    "    f = open('vishal.txt')\n",
    "    f.write('Vishal here')\n",
    "except (FileExistsError, ValueError):\n",
    "    print('There is an exception')"
   ]
  },
  {
   "cell_type": "code",
   "execution_count": 37,
   "metadata": {},
   "outputs": [
    {
     "name": "stdout",
     "output_type": "stream",
     "text": [
      "There is an exception\n"
     ]
    }
   ],
   "source": [
    "try:\n",
    "    f = open('vishal.txt')\n",
    "    f.write('Vishal here')\n",
    "except (FileExistsError, ValueError, Exception):\n",
    "    print('There is an exception')"
   ]
  },
  {
   "cell_type": "code",
   "execution_count": 38,
   "metadata": {},
   "outputs": [
    {
     "name": "stdout",
     "output_type": "stream",
     "text": [
      "There is an exception\n"
     ]
    }
   ],
   "source": [
    "try:\n",
    "    f = open('vishal.txt')\n",
    "    f.write('Vishal here')\n",
    "except (FileExistsError, ValueError, IOError, OSError, Exception):\n",
    "    print('There is an exception')"
   ]
  },
  {
   "cell_type": "code",
   "execution_count": 48,
   "metadata": {},
   "outputs": [
    {
     "name": "stdout",
     "output_type": "stream",
     "text": [
      "There is an exception\n"
     ]
    }
   ],
   "source": [
    "try:\n",
    "    f = open('vishal.txt')\n",
    "    f.write('Vishal here')\n",
    "except (FileExistsError, ValueError, IOError, OSError, Exception) as e:\n",
    "    print('There is an exception')"
   ]
  },
  {
   "cell_type": "code",
   "execution_count": 5,
   "metadata": {},
   "outputs": [
    {
     "name": "stdout",
     "output_type": "stream",
     "text": [
      "Enter the integer:9\n"
     ]
    }
   ],
   "source": [
    "#Creating own kind of error using RAISE keyword:\n",
    "#If treating a good value as exception, we can use it. We can raise it for our purpose.\n",
    "\n",
    "try:\n",
    "    v=int(input('Enter the integer:'))\n",
    "    if v < 2:\n",
    "          raise ValueError('Enter number is not a valid integer looked for')\n",
    "except ValueError as e:\n",
    "          print(e)"
   ]
  },
  {
   "cell_type": "code",
   "execution_count": 6,
   "metadata": {},
   "outputs": [
    {
     "name": "stdout",
     "output_type": "stream",
     "text": [
      "Enter the integer:1\n",
      "Enter number is not a valid integer looked for\n"
     ]
    }
   ],
   "source": [
    "#overriding system exceptions\n",
    "try:\n",
    "    v=int(input('Enter the integer:'))\n",
    "    if v < 2:\n",
    "          raise ValueError('Enter number is not a valid integer looked for')\n",
    "except ValueError as e:\n",
    "          print(e)"
   ]
  },
  {
   "cell_type": "code",
   "execution_count": 2,
   "metadata": {},
   "outputs": [
    {
     "name": "stdout",
     "output_type": "stream",
     "text": [
      "Enter the integer:1\n",
      "Enter number is not a valid integer looked for\n"
     ]
    }
   ],
   "source": [
    "try:\n",
    "    v=int(input('Enter the integer:'))\n",
    "    f = 56/v\n",
    "    if v < 2:\n",
    "          raise ValueError('Enter number is not a valid integer looked for')\n",
    "except ValueError as e:\n",
    "          print(e)"
   ]
  },
  {
   "cell_type": "code",
   "execution_count": 3,
   "metadata": {},
   "outputs": [
    {
     "name": "stdout",
     "output_type": "stream",
     "text": [
      "Enter the integer:0\n",
      "division by zero\n"
     ]
    }
   ],
   "source": [
    "try:\n",
    "    v=int(input('Enter the integer:'))\n",
    "    f = 56/v\n",
    "    if v == 0:\n",
    "          raise ZeroDivisionError('Enter number other than zero')\n",
    "except ZeroDivisionError as e:\n",
    "          print(e)"
   ]
  },
  {
   "cell_type": "markdown",
   "metadata": {},
   "source": [
    "# SQLITE & SQLALCHEMY:"
   ]
  },
  {
   "cell_type": "raw",
   "metadata": {},
   "source": [
    "SQLALCHEMY is based on OOPS concept.\n",
    "SQLITE is based on in-memory function. All execution happens in RAM and not in Harddisk. It's transit in-memory database."
   ]
  },
  {
   "cell_type": "code",
   "execution_count": 4,
   "metadata": {},
   "outputs": [],
   "source": [
    "import sqlite3"
   ]
  },
  {
   "cell_type": "code",
   "execution_count": 22,
   "metadata": {},
   "outputs": [],
   "source": [
    "#Establish communication / connection between IDE and DB:\n",
    "\n",
    "c= sqlite3.connect('wxyz')\n",
    "#Establish xyz database\n",
    "#For SQL DB, we have to give local host and port number and user name and passwordZeroDivisionError"
   ]
  },
  {
   "cell_type": "raw",
   "metadata": {},
   "source": [
    "execute - exeute single line of SQL Code one by one.\n",
    "executemany - exxecutes multiple line of code\n",
    "executescript - to insert or doing any python script"
   ]
  },
  {
   "cell_type": "code",
   "execution_count": 23,
   "metadata": {},
   "outputs": [
    {
     "data": {
      "text/plain": [
       "<sqlite3.Cursor at 0x1feb291ee30>"
      ]
     },
     "execution_count": 23,
     "metadata": {},
     "output_type": "execute_result"
    }
   ],
   "source": [
    "#sql command\n",
    "c.execute('drop table if exists abcd')"
   ]
  },
  {
   "cell_type": "code",
   "execution_count": 24,
   "metadata": {},
   "outputs": [
    {
     "data": {
      "text/plain": [
       "<sqlite3.Cursor at 0x1feb291ef80>"
      ]
     },
     "execution_count": 24,
     "metadata": {},
     "output_type": "execute_result"
    }
   ],
   "source": [
    "#Creating table ABC under database XYZ\n",
    "c.execute('create table abcd(id int, name text, score int)')"
   ]
  },
  {
   "cell_type": "code",
   "execution_count": 25,
   "metadata": {},
   "outputs": [
    {
     "data": {
      "text/plain": [
       "<sqlite3.Cursor at 0x1feb291ed50>"
      ]
     },
     "execution_count": 25,
     "metadata": {},
     "output_type": "execute_result"
    }
   ],
   "source": [
    "c.execute(\"insert into abcd(id, name, score) values(234,'vishal',1234)\")"
   ]
  },
  {
   "cell_type": "code",
   "execution_count": 26,
   "metadata": {},
   "outputs": [
    {
     "data": {
      "text/plain": [
       "'C:\\\\Users\\\\ELCOT\\\\Python Ineuron'"
      ]
     },
     "execution_count": 26,
     "metadata": {},
     "output_type": "execute_result"
    }
   ],
   "source": [
    " pwd()"
   ]
  },
  {
   "cell_type": "code",
   "execution_count": 27,
   "metadata": {},
   "outputs": [],
   "source": [
    "c.commit()"
   ]
  },
  {
   "cell_type": "code",
   "execution_count": 28,
   "metadata": {},
   "outputs": [
    {
     "data": {
      "text/plain": [
       "<sqlite3.Cursor at 0x1feb291e030>"
      ]
     },
     "execution_count": 28,
     "metadata": {},
     "output_type": "execute_result"
    }
   ],
   "source": [
    "c.execute(\"insert into abcd(id, name, score) values(235,'vishal1',12341)\")\n",
    "c.execute(\"insert into abcd(id, name, score) values(236,'vishal2',12342)\")\n",
    "c.execute(\"insert into abcd(id, name, score) values(237,'vishal3',12343)\")\n",
    "c.execute(\"insert into abcd(id, name, score) values(238,'vishal4',12344)\")\n",
    "c.execute(\"insert into abcd(id, name, score) values(239,'vishal5',12345)\")"
   ]
  },
  {
   "cell_type": "code",
   "execution_count": 29,
   "metadata": {},
   "outputs": [],
   "source": [
    "c.commit()"
   ]
  },
  {
   "cell_type": "code",
   "execution_count": 32,
   "metadata": {},
   "outputs": [
    {
     "data": {
      "text/plain": [
       "<sqlite3.Cursor at 0x1feb2742420>"
      ]
     },
     "execution_count": 32,
     "metadata": {},
     "output_type": "execute_result"
    }
   ],
   "source": [
    "c.execute('select * from abcd')"
   ]
  },
  {
   "cell_type": "code",
   "execution_count": 33,
   "metadata": {},
   "outputs": [
    {
     "data": {
      "text/plain": [
       "[(234, 'vishal', 1234),\n",
       " (235, 'vishal1', 12341),\n",
       " (236, 'vishal2', 12342),\n",
       " (237, 'vishal3', 12343),\n",
       " (238, 'vishal4', 12344),\n",
       " (239, 'vishal5', 12345)]"
      ]
     },
     "execution_count": 33,
     "metadata": {},
     "output_type": "execute_result"
    }
   ],
   "source": [
    "list(c.execute('select * from abcd'))"
   ]
  },
  {
   "cell_type": "code",
   "execution_count": 34,
   "metadata": {},
   "outputs": [
    {
     "data": {
      "text/plain": [
       "(234, 'vishal', 1234)"
      ]
     },
     "execution_count": 34,
     "metadata": {},
     "output_type": "execute_result"
    }
   ],
   "source": [
    "list(c.execute('select * from abcd'))[0]"
   ]
  },
  {
   "cell_type": "code",
   "execution_count": 35,
   "metadata": {},
   "outputs": [
    {
     "data": {
      "text/plain": [
       "list"
      ]
     },
     "execution_count": 35,
     "metadata": {},
     "output_type": "execute_result"
    }
   ],
   "source": [
    "type(list(c.execute('select * from abcd')))"
   ]
  },
  {
   "cell_type": "code",
   "execution_count": 36,
   "metadata": {},
   "outputs": [
    {
     "data": {
      "text/plain": [
       "sqlite3.Cursor"
      ]
     },
     "execution_count": 36,
     "metadata": {},
     "output_type": "execute_result"
    }
   ],
   "source": [
    "type((c.execute('select * from abcd')))"
   ]
  },
  {
   "cell_type": "code",
   "execution_count": 37,
   "metadata": {},
   "outputs": [
    {
     "data": {
      "text/plain": [
       "tuple"
      ]
     },
     "execution_count": 37,
     "metadata": {},
     "output_type": "execute_result"
    }
   ],
   "source": [
    "type(list(c.execute('select * from abcd'))[0])"
   ]
  },
  {
   "cell_type": "code",
   "execution_count": 38,
   "metadata": {},
   "outputs": [],
   "source": [
    "#When DB , most of time it returns tuple for SQL databases. Values can be fetched after converting back to list.\n",
    "#In NOSQL, depends on datatype"
   ]
  },
  {
   "cell_type": "code",
   "execution_count": 39,
   "metadata": {},
   "outputs": [
    {
     "name": "stdout",
     "output_type": "stream",
     "text": [
      "(234, 'vishal', 1234)\n",
      "(235, 'vishal1', 12341)\n",
      "(236, 'vishal2', 12342)\n",
      "(237, 'vishal3', 12343)\n",
      "(238, 'vishal4', 12344)\n",
      "(239, 'vishal5', 12345)\n"
     ]
    }
   ],
   "source": [
    "for i in c.execute('select * from abcd'):\n",
    "    print(i)"
   ]
  },
  {
   "cell_type": "code",
   "execution_count": 40,
   "metadata": {},
   "outputs": [
    {
     "name": "stdout",
     "output_type": "stream",
     "text": [
      "(234, 'vishal', 1234)\n",
      "(235, 'vishal1', 12341)\n",
      "(236, 'vishal2', 12342)\n",
      "(237, 'vishal3', 12343)\n",
      "(238, 'vishal4', 12344)\n",
      "(239, 'vishal5', 12345)\n"
     ]
    }
   ],
   "source": [
    "for i in c.execute('select * from abcd order by score'):\n",
    "    print(i)"
   ]
  },
  {
   "cell_type": "code",
   "execution_count": 41,
   "metadata": {},
   "outputs": [
    {
     "name": "stdout",
     "output_type": "stream",
     "text": [
      "(235, 'vishal1', 12341)\n"
     ]
    }
   ],
   "source": [
    "for i in c.execute('select * from abcd where name = \"vishal1\"'):\n",
    "    print(i)"
   ]
  },
  {
   "cell_type": "code",
   "execution_count": 42,
   "metadata": {},
   "outputs": [
    {
     "name": "stdout",
     "output_type": "stream",
     "text": [
      "(235, 'vishal1')\n"
     ]
    }
   ],
   "source": [
    "for i in c.execute('select id, name from abcd where name = \"vishal1\"'):\n",
    "    print(i)"
   ]
  },
  {
   "cell_type": "code",
   "execution_count": 43,
   "metadata": {},
   "outputs": [
    {
     "name": "stdout",
     "output_type": "stream",
     "text": [
      "Collecting mysql\n",
      "  Downloading mysql-0.0.2.tar.gz (1.9 kB)\n",
      "Collecting mysqlclient\n",
      "  Downloading mysqlclient-1.4.6-cp37-cp37m-win_amd64.whl (262 kB)\n",
      "Building wheels for collected packages: mysql\n",
      "  Building wheel for mysql (setup.py): started\n",
      "  Building wheel for mysql (setup.py): finished with status 'done'\n",
      "  Created wheel for mysql: filename=mysql-0.0.2-py3-none-any.whl size=1252 sha256=17e6c5de39b8fffe97910f65c8809da9379865bd21f21a7c1cb7a5965d350d44\n",
      "  Stored in directory: c:\\users\\elcot\\appdata\\local\\pip\\cache\\wheels\\f6\\60\\6d\\b1cf0653d003ddb0be2985a4d5f2c6f977d91f0862df094de8\n",
      "Successfully built mysql\n",
      "Installing collected packages: mysqlclient, mysql\n",
      "Successfully installed mysql-0.0.2 mysqlclient-1.4.6\n"
     ]
    }
   ],
   "source": [
    "#Installing mysql connections:\n",
    "!pip install mysql"
   ]
  },
  {
   "cell_type": "code",
   "execution_count": 47,
   "metadata": {},
   "outputs": [
    {
     "name": "stdout",
     "output_type": "stream",
     "text": [
      "Collecting mysql-connector\n",
      "  Downloading mysql-connector-2.2.9.tar.gz (11.9 MB)\n",
      "Building wheels for collected packages: mysql-connector\n",
      "  Building wheel for mysql-connector (setup.py): started\n",
      "  Building wheel for mysql-connector (setup.py): finished with status 'done'\n",
      "  Created wheel for mysql-connector: filename=mysql_connector-2.2.9-cp37-cp37m-win_amd64.whl size=247952 sha256=3aff616e187a6037863a5c34d1acf04e56cbdbc3b304d56c7113f47c0c725f16\n",
      "  Stored in directory: c:\\users\\elcot\\appdata\\local\\pip\\cache\\wheels\\42\\2f\\c3\\692fc7fc1f0d8c06b9175d94f0fc30f4f92348f5df5af1b8b7\n",
      "Successfully built mysql-connector\n",
      "Installing collected packages: mysql-connector\n",
      "Successfully installed mysql-connector-2.2.9\n"
     ]
    }
   ],
   "source": [
    "!pip install mysql-connector"
   ]
  },
  {
   "cell_type": "code",
   "execution_count": 45,
   "metadata": {},
   "outputs": [
    {
     "ename": "ModuleNotFoundError",
     "evalue": "No module named 'mysql'",
     "output_type": "error",
     "traceback": [
      "\u001b[1;31m---------------------------------------------------------------------------\u001b[0m",
      "\u001b[1;31mModuleNotFoundError\u001b[0m                       Traceback (most recent call last)",
      "\u001b[1;32m<ipython-input-45-48e1173e184e>\u001b[0m in \u001b[0;36m<module>\u001b[1;34m\u001b[0m\n\u001b[1;32m----> 1\u001b[1;33m \u001b[1;32mimport\u001b[0m \u001b[0mmysql\u001b[0m\u001b[1;33m\u001b[0m\u001b[1;33m\u001b[0m\u001b[0m\n\u001b[0m",
      "\u001b[1;31mModuleNotFoundError\u001b[0m: No module named 'mysql'"
     ]
    }
   ],
   "source": [
    "import mysql"
   ]
  },
  {
   "cell_type": "code",
   "execution_count": 46,
   "metadata": {},
   "outputs": [
    {
     "ename": "ModuleNotFoundError",
     "evalue": "No module named 'mysql'",
     "output_type": "error",
     "traceback": [
      "\u001b[1;31m---------------------------------------------------------------------------\u001b[0m",
      "\u001b[1;31mModuleNotFoundError\u001b[0m                       Traceback (most recent call last)",
      "\u001b[1;32m<ipython-input-46-9cd6224ba968>\u001b[0m in \u001b[0;36m<module>\u001b[1;34m\u001b[0m\n\u001b[1;32m----> 1\u001b[1;33m \u001b[1;32mimport\u001b[0m \u001b[0mmysql\u001b[0m\u001b[1;33m.\u001b[0m\u001b[0mconnector\u001b[0m\u001b[1;33m\u001b[0m\u001b[1;33m\u001b[0m\u001b[0m\n\u001b[0m",
      "\u001b[1;31mModuleNotFoundError\u001b[0m: No module named 'mysql'"
     ]
    }
   ],
   "source": [
    "import mysql.connector"
   ]
  },
  {
   "cell_type": "code",
   "execution_count": null,
   "metadata": {},
   "outputs": [],
   "source": []
  }
 ],
 "metadata": {
  "kernelspec": {
   "display_name": "Python 3",
   "language": "python",
   "name": "python3"
  }
 },
 "nbformat": 4,
 "nbformat_minor": 4
}
